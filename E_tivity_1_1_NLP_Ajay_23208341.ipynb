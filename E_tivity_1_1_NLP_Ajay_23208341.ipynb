{
  "nbformat": 4,
  "nbformat_minor": 0,
  "metadata": {
    "colab": {
      "provenance": []
    },
    "kernelspec": {
      "name": "python3",
      "display_name": "Python 3"
    },
    "language_info": {
      "name": "python"
    }
  },
  "cells": [
    {
      "cell_type": "markdown",
      "source": [
        "Student Name : **Ajay Neelankatil**\n",
        "\n",
        "Student ID : **23208341**"
      ],
      "metadata": {
        "id": "RPedgMIBDh4C"
      }
    },
    {
      "cell_type": "markdown",
      "source": [
        "##E-tivity 1.1\n"
      ],
      "metadata": {
        "id": "HJOp_-2bDtgd"
      }
    },
    {
      "cell_type": "code",
      "source": [
        "import re\n",
        "import csv\n",
        "import requests\n",
        "\n",
        "def load_routing_keys_from_csv(file_path):\n",
        "    routing_keys = {}\n",
        "    with open(file_path, mode='r', encoding='utf-8') as file:\n",
        "        reader = csv.reader(file)\n",
        "        for row in reader:\n",
        "            if len(row) == 2:\n",
        "                routing_key, descriptor = row\n",
        "                routing_keys[routing_key] = descriptor\n",
        "    return routing_keys\n",
        "\n",
        "# Download the CSV file from the URL\n",
        "csv_url = \"https://gist.githubusercontent.com/ajoorabchi/eac194a79dd26de8864f9206b7842ff1/raw/8ea1d8d5f74b5b2724e378b43d4df6094990c7db/Eircode%2520Routing%2520Key%2520Boundaries.csv\"\n",
        "csv_file_path = \"Eircode_Routing_Key_Boundaries.csv\"\n",
        "\n",
        "response = requests.get(csv_url)\n",
        "if response.status_code == 200:\n",
        "    with open(csv_file_path, 'wb') as csv_file:\n",
        "        csv_file.write(response.content)\n",
        "    print(\"CSV file downloaded successfully.\")\n",
        "else:\n",
        "    print(\"Failed to download the CSV file. Status code:\", response.status_code)\n",
        "\n",
        "# Load routing keys from the CSV file\n",
        "routing_keys = load_routing_keys_from_csv(csv_file_path)\n",
        "def validate_and_get_geographical_district(eircode_str):\n",
        "    # Define the Eircode regex pattern\n",
        "\n",
        "    eircode_pattern = r'^[A-Z0-9]{7}$'\n",
        "\n",
        "    eircode_str = eircode_str.replace('-', '')\n",
        "    # Check if the input string matches the Eircode format\n",
        "    if re.match(eircode_pattern, eircode_str):\n",
        "        # Extract the first three characters as the routing key\n",
        "        routing_key = eircode_str[:3]\n",
        "\n",
        "        # Check if the routing key exists in the routing keys dictionary\n",
        "        destination = routing_keys.get(routing_key, 'Routing key not found')\n",
        "        return f'Eircode = {eircode_str}\\nValid Eircode, Routing keys = {routing_key} Unique Identifier = {eircode_str[3:]}\\nDestination = {destination}'\n",
        "    else:\n",
        "        return f'Eircode = {eircode_str}\\n Invalid Eircode'\n",
        "\n",
        "# Sample input\n",
        "input_eircode = 'V94-T9PX'\n",
        "# input_eircode = 'V4-T9PX'\n",
        "# input_eircode = 'P31-RW32'\n",
        "# input_eircode = 'A1`2` -T9PX'\n",
        "\n",
        "# Call the function with the sample input\n",
        "result = validate_and_get_geographical_district(input_eircode)\n",
        "\n",
        "# Print the result\n",
        "print(result)\n"
      ],
      "metadata": {
        "id": "_VLTwSrwXizh",
        "outputId": "0ea7ad6f-6809-47a6-f27e-c5b018dd0c0e",
        "colab": {
          "base_uri": "https://localhost:8080/"
        }
      },
      "execution_count": 19,
      "outputs": [
        {
          "output_type": "stream",
          "name": "stdout",
          "text": [
            "CSV file downloaded successfully.\n",
            "Eircode = V94T9PX\n",
            "Valid Eircode, Routing keys = V94 Unique Identifier = T9PX\n",
            "Destination = LIMERICK\n"
          ]
        }
      ]
    }
  ]
}